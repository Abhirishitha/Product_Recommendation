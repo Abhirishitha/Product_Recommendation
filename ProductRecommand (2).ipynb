{
 "cells": [
  {
   "cell_type": "code",
   "execution_count": 52,
   "id": "52813814-9644-47e3-8f00-c014b1086f06",
   "metadata": {},
   "outputs": [],
   "source": [
    "import numpy as np\n",
    "import pandas as pd"
   ]
  },
  {
   "cell_type": "code",
   "execution_count": 54,
   "id": "b5fa1a84-4b64-4c96-aadc-f2bd90bc6e5c",
   "metadata": {},
   "outputs": [
    {
     "data": {
      "text/html": [
       "<div>\n",
       "<style scoped>\n",
       "    .dataframe tbody tr th:only-of-type {\n",
       "        vertical-align: middle;\n",
       "    }\n",
       "\n",
       "    .dataframe tbody tr th {\n",
       "        vertical-align: top;\n",
       "    }\n",
       "\n",
       "    .dataframe thead th {\n",
       "        text-align: right;\n",
       "    }\n",
       "</style>\n",
       "<table border=\"1\" class=\"dataframe\">\n",
       "  <thead>\n",
       "    <tr style=\"text-align: right;\">\n",
       "      <th></th>\n",
       "      <th>Customer_ID</th>\n",
       "      <th>Age</th>\n",
       "      <th>Gender</th>\n",
       "      <th>Location</th>\n",
       "      <th>Income</th>\n",
       "      <th>Browsing_History</th>\n",
       "      <th>Previous_Purchases</th>\n",
       "      <th>Preferred_Device</th>\n",
       "      <th>Product_Category</th>\n",
       "      <th>Time_Spent_on_Site</th>\n",
       "    </tr>\n",
       "  </thead>\n",
       "  <tbody>\n",
       "    <tr>\n",
       "      <th>0</th>\n",
       "      <td>af09abc0-4835-4376-af52-758c10ff7e97</td>\n",
       "      <td>72</td>\n",
       "      <td>Male</td>\n",
       "      <td>Suburban</td>\n",
       "      <td>NaN</td>\n",
       "      <td>Clothing</td>\n",
       "      <td>8</td>\n",
       "      <td>Desktop</td>\n",
       "      <td>Clothing</td>\n",
       "      <td>78.718422</td>\n",
       "    </tr>\n",
       "    <tr>\n",
       "      <th>1</th>\n",
       "      <td>00ce02c1-d45a-4e5a-bd6e-d34d11f90647</td>\n",
       "      <td>72</td>\n",
       "      <td>Female</td>\n",
       "      <td>Rural</td>\n",
       "      <td>100071.0</td>\n",
       "      <td>Books</td>\n",
       "      <td>1</td>\n",
       "      <td>Desktop</td>\n",
       "      <td>Clothing</td>\n",
       "      <td>71.882840</td>\n",
       "    </tr>\n",
       "    <tr>\n",
       "      <th>2</th>\n",
       "      <td>b59bc34e-84de-4cc2-b45a-8e5254b5b7bf</td>\n",
       "      <td>72</td>\n",
       "      <td>Male</td>\n",
       "      <td>Urban</td>\n",
       "      <td>25734.0</td>\n",
       "      <td>Sports</td>\n",
       "      <td>1</td>\n",
       "      <td>Mobile</td>\n",
       "      <td>Food</td>\n",
       "      <td>105.186397</td>\n",
       "    </tr>\n",
       "    <tr>\n",
       "      <th>3</th>\n",
       "      <td>820cb025-c3e9-4a92-9ca6-91fb303b526e</td>\n",
       "      <td>22</td>\n",
       "      <td>Male</td>\n",
       "      <td>Rural</td>\n",
       "      <td>115576.0</td>\n",
       "      <td>Food</td>\n",
       "      <td>7</td>\n",
       "      <td>Desktop</td>\n",
       "      <td>Food</td>\n",
       "      <td>98.117595</td>\n",
       "    </tr>\n",
       "    <tr>\n",
       "      <th>4</th>\n",
       "      <td>232f52b9-3f95-4c70-91e3-ec9585c91802</td>\n",
       "      <td>33</td>\n",
       "      <td>Female</td>\n",
       "      <td>Rural</td>\n",
       "      <td>130314.0</td>\n",
       "      <td>Clothing</td>\n",
       "      <td>2</td>\n",
       "      <td>Mobile</td>\n",
       "      <td>Clothing</td>\n",
       "      <td>119.650952</td>\n",
       "    </tr>\n",
       "  </tbody>\n",
       "</table>\n",
       "</div>"
      ],
      "text/plain": [
       "                            Customer_ID  Age  Gender  Location    Income  \\\n",
       "0  af09abc0-4835-4376-af52-758c10ff7e97   72    Male  Suburban       NaN   \n",
       "1  00ce02c1-d45a-4e5a-bd6e-d34d11f90647   72  Female     Rural  100071.0   \n",
       "2  b59bc34e-84de-4cc2-b45a-8e5254b5b7bf   72    Male     Urban   25734.0   \n",
       "3  820cb025-c3e9-4a92-9ca6-91fb303b526e   22    Male     Rural  115576.0   \n",
       "4  232f52b9-3f95-4c70-91e3-ec9585c91802   33  Female     Rural  130314.0   \n",
       "\n",
       "  Browsing_History  Previous_Purchases Preferred_Device Product_Category  \\\n",
       "0         Clothing                   8          Desktop         Clothing   \n",
       "1            Books                   1          Desktop         Clothing   \n",
       "2           Sports                   1           Mobile             Food   \n",
       "3             Food                   7          Desktop             Food   \n",
       "4         Clothing                   2           Mobile         Clothing   \n",
       "\n",
       "   Time_Spent_on_Site  \n",
       "0           78.718422  \n",
       "1           71.882840  \n",
       "2          105.186397  \n",
       "3           98.117595  \n",
       "4          119.650952  "
      ]
     },
     "execution_count": 54,
     "metadata": {},
     "output_type": "execute_result"
    }
   ],
   "source": [
    "df = pd.read_csv('Product_Recommendation.csv')\n",
    "df.head()"
   ]
  },
  {
   "cell_type": "code",
   "execution_count": 56,
   "id": "a564c04f-910e-441c-bdfe-80cd81a30a1a",
   "metadata": {},
   "outputs": [
    {
     "data": {
      "text/plain": [
       "(800, 10)"
      ]
     },
     "execution_count": 56,
     "metadata": {},
     "output_type": "execute_result"
    }
   ],
   "source": [
    "df.shape"
   ]
  },
  {
   "cell_type": "code",
   "execution_count": 58,
   "id": "d111c0cd-790b-45ad-83fa-8c6070b76c88",
   "metadata": {},
   "outputs": [
    {
     "name": "stdout",
     "output_type": "stream",
     "text": [
      "['Customer_ID', 'Age', 'Gender', 'Location', 'Income', 'Browsing_History', 'Previous_Purchases', 'Preferred_Device', 'Product_Category', 'Time_Spent_on_Site']\n"
     ]
    }
   ],
   "source": [
    "data_cols =df.columns.tolist()\n",
    "print(data_cols)"
   ]
  },
  {
   "cell_type": "code",
   "execution_count": 60,
   "id": "e6f3bddf-ffc0-4b4d-b4c5-1ab3e4156bf4",
   "metadata": {},
   "outputs": [
    {
     "data": {
      "text/plain": [
       "Customer_ID            object\n",
       "Age                     int64\n",
       "Gender                 object\n",
       "Location               object\n",
       "Income                float64\n",
       "Browsing_History       object\n",
       "Previous_Purchases      int64\n",
       "Preferred_Device       object\n",
       "Product_Category       object\n",
       "Time_Spent_on_Site    float64\n",
       "dtype: object"
      ]
     },
     "execution_count": 60,
     "metadata": {},
     "output_type": "execute_result"
    }
   ],
   "source": [
    "df.dtypes"
   ]
  },
  {
   "cell_type": "code",
   "execution_count": 62,
   "id": "dc6967b2-7d2d-42bb-b59a-01002681dbcf",
   "metadata": {},
   "outputs": [
    {
     "data": {
      "text/html": [
       "<div>\n",
       "<style scoped>\n",
       "    .dataframe tbody tr th:only-of-type {\n",
       "        vertical-align: middle;\n",
       "    }\n",
       "\n",
       "    .dataframe tbody tr th {\n",
       "        vertical-align: top;\n",
       "    }\n",
       "\n",
       "    .dataframe thead th {\n",
       "        text-align: right;\n",
       "    }\n",
       "</style>\n",
       "<table border=\"1\" class=\"dataframe\">\n",
       "  <thead>\n",
       "    <tr style=\"text-align: right;\">\n",
       "      <th></th>\n",
       "      <th>Age</th>\n",
       "      <th>Income</th>\n",
       "      <th>Previous_Purchases</th>\n",
       "      <th>Time_Spent_on_Site</th>\n",
       "    </tr>\n",
       "  </thead>\n",
       "  <tbody>\n",
       "    <tr>\n",
       "      <th>count</th>\n",
       "      <td>800.000000</td>\n",
       "      <td>682.000000</td>\n",
       "      <td>800.000000</td>\n",
       "      <td>773.000000</td>\n",
       "    </tr>\n",
       "    <tr>\n",
       "      <th>mean</th>\n",
       "      <td>49.038750</td>\n",
       "      <td>84407.494135</td>\n",
       "      <td>4.916250</td>\n",
       "      <td>62.454720</td>\n",
       "    </tr>\n",
       "    <tr>\n",
       "      <th>std</th>\n",
       "      <td>17.784265</td>\n",
       "      <td>38206.118860</td>\n",
       "      <td>2.504911</td>\n",
       "      <td>33.757387</td>\n",
       "    </tr>\n",
       "    <tr>\n",
       "      <th>min</th>\n",
       "      <td>18.000000</td>\n",
       "      <td>20194.000000</td>\n",
       "      <td>1.000000</td>\n",
       "      <td>5.091183</td>\n",
       "    </tr>\n",
       "    <tr>\n",
       "      <th>25%</th>\n",
       "      <td>34.000000</td>\n",
       "      <td>49362.500000</td>\n",
       "      <td>3.000000</td>\n",
       "      <td>31.734074</td>\n",
       "    </tr>\n",
       "    <tr>\n",
       "      <th>50%</th>\n",
       "      <td>49.000000</td>\n",
       "      <td>85488.500000</td>\n",
       "      <td>5.000000</td>\n",
       "      <td>62.892357</td>\n",
       "    </tr>\n",
       "    <tr>\n",
       "      <th>75%</th>\n",
       "      <td>64.250000</td>\n",
       "      <td>117173.250000</td>\n",
       "      <td>7.000000</td>\n",
       "      <td>91.772655</td>\n",
       "    </tr>\n",
       "    <tr>\n",
       "      <th>max</th>\n",
       "      <td>79.000000</td>\n",
       "      <td>149549.000000</td>\n",
       "      <td>9.000000</td>\n",
       "      <td>119.811766</td>\n",
       "    </tr>\n",
       "  </tbody>\n",
       "</table>\n",
       "</div>"
      ],
      "text/plain": [
       "              Age         Income  Previous_Purchases  Time_Spent_on_Site\n",
       "count  800.000000     682.000000          800.000000          773.000000\n",
       "mean    49.038750   84407.494135            4.916250           62.454720\n",
       "std     17.784265   38206.118860            2.504911           33.757387\n",
       "min     18.000000   20194.000000            1.000000            5.091183\n",
       "25%     34.000000   49362.500000            3.000000           31.734074\n",
       "50%     49.000000   85488.500000            5.000000           62.892357\n",
       "75%     64.250000  117173.250000            7.000000           91.772655\n",
       "max     79.000000  149549.000000            9.000000          119.811766"
      ]
     },
     "execution_count": 62,
     "metadata": {},
     "output_type": "execute_result"
    }
   ],
   "source": [
    "df.describe()"
   ]
  },
  {
   "cell_type": "code",
   "execution_count": 64,
   "id": "719de8e9-cd85-4701-adb5-f5f931754622",
   "metadata": {},
   "outputs": [
    {
     "name": "stdout",
     "output_type": "stream",
     "text": [
      "<class 'pandas.core.frame.DataFrame'>\n",
      "RangeIndex: 800 entries, 0 to 799\n",
      "Data columns (total 10 columns):\n",
      " #   Column              Non-Null Count  Dtype  \n",
      "---  ------              --------------  -----  \n",
      " 0   Customer_ID         800 non-null    object \n",
      " 1   Age                 800 non-null    int64  \n",
      " 2   Gender              657 non-null    object \n",
      " 3   Location            800 non-null    object \n",
      " 4   Income              682 non-null    float64\n",
      " 5   Browsing_History    800 non-null    object \n",
      " 6   Previous_Purchases  800 non-null    int64  \n",
      " 7   Preferred_Device    800 non-null    object \n",
      " 8   Product_Category    800 non-null    object \n",
      " 9   Time_Spent_on_Site  773 non-null    float64\n",
      "dtypes: float64(2), int64(2), object(6)\n",
      "memory usage: 62.6+ KB\n"
     ]
    }
   ],
   "source": [
    "df.info()"
   ]
  },
  {
   "cell_type": "code",
   "execution_count": 66,
   "id": "6f610ea0-7a2f-4e13-837f-933bbaa0c1e3",
   "metadata": {},
   "outputs": [
    {
     "data": {
      "text/plain": [
       "Customer_ID             0\n",
       "Age                     0\n",
       "Gender                143\n",
       "Location                0\n",
       "Income                118\n",
       "Browsing_History        0\n",
       "Previous_Purchases      0\n",
       "Preferred_Device        0\n",
       "Product_Category        0\n",
       "Time_Spent_on_Site     27\n",
       "dtype: int64"
      ]
     },
     "execution_count": 66,
     "metadata": {},
     "output_type": "execute_result"
    }
   ],
   "source": [
    "df.isnull().sum()"
   ]
  },
  {
   "cell_type": "code",
   "execution_count": 78,
   "id": "cae7a339-bb46-4ac6-9013-80c51933e602",
   "metadata": {},
   "outputs": [
    {
     "ename": "KeyError",
     "evalue": "\"['Customer_ID', 'Preferred_Device'] not found in axis\"",
     "output_type": "error",
     "traceback": [
      "\u001b[1;31m---------------------------------------------------------------------------\u001b[0m",
      "\u001b[1;31mKeyError\u001b[0m                                  Traceback (most recent call last)",
      "Cell \u001b[1;32mIn[78], line 1\u001b[0m\n\u001b[1;32m----> 1\u001b[0m df \u001b[38;5;241m=\u001b[39m df\u001b[38;5;241m.\u001b[39mdrop([\u001b[38;5;124m'\u001b[39m\u001b[38;5;124mCustomer_ID\u001b[39m\u001b[38;5;124m'\u001b[39m,\u001b[38;5;124m'\u001b[39m\u001b[38;5;124mPreferred_Device\u001b[39m\u001b[38;5;124m'\u001b[39m],axis\u001b[38;5;241m=\u001b[39m\u001b[38;5;241m1\u001b[39m)\n\u001b[0;32m      2\u001b[0m x \u001b[38;5;241m=\u001b[39m df\u001b[38;5;241m.\u001b[39mselect_dtypes(include\u001b[38;5;241m=\u001b[39m[\u001b[38;5;124m'\u001b[39m\u001b[38;5;124mobject\u001b[39m\u001b[38;5;124m'\u001b[39m])\u001b[38;5;241m.\u001b[39mcolumns\n\u001b[0;32m      3\u001b[0m df[x] \u001b[38;5;241m=\u001b[39m df[x]\u001b[38;5;241m.\u001b[39mfillna(df[x]\u001b[38;5;241m.\u001b[39mmode()\u001b[38;5;241m.\u001b[39miloc[\u001b[38;5;241m0\u001b[39m])\n",
      "File \u001b[1;32m~\\anaconda3\\Lib\\site-packages\\pandas\\core\\frame.py:5581\u001b[0m, in \u001b[0;36mDataFrame.drop\u001b[1;34m(self, labels, axis, index, columns, level, inplace, errors)\u001b[0m\n\u001b[0;32m   5433\u001b[0m \u001b[38;5;28;01mdef\u001b[39;00m \u001b[38;5;21mdrop\u001b[39m(\n\u001b[0;32m   5434\u001b[0m     \u001b[38;5;28mself\u001b[39m,\n\u001b[0;32m   5435\u001b[0m     labels: IndexLabel \u001b[38;5;241m|\u001b[39m \u001b[38;5;28;01mNone\u001b[39;00m \u001b[38;5;241m=\u001b[39m \u001b[38;5;28;01mNone\u001b[39;00m,\n\u001b[1;32m   (...)\u001b[0m\n\u001b[0;32m   5442\u001b[0m     errors: IgnoreRaise \u001b[38;5;241m=\u001b[39m \u001b[38;5;124m\"\u001b[39m\u001b[38;5;124mraise\u001b[39m\u001b[38;5;124m\"\u001b[39m,\n\u001b[0;32m   5443\u001b[0m ) \u001b[38;5;241m-\u001b[39m\u001b[38;5;241m>\u001b[39m DataFrame \u001b[38;5;241m|\u001b[39m \u001b[38;5;28;01mNone\u001b[39;00m:\n\u001b[0;32m   5444\u001b[0m \u001b[38;5;250m    \u001b[39m\u001b[38;5;124;03m\"\"\"\u001b[39;00m\n\u001b[0;32m   5445\u001b[0m \u001b[38;5;124;03m    Drop specified labels from rows or columns.\u001b[39;00m\n\u001b[0;32m   5446\u001b[0m \n\u001b[1;32m   (...)\u001b[0m\n\u001b[0;32m   5579\u001b[0m \u001b[38;5;124;03m            weight  1.0     0.8\u001b[39;00m\n\u001b[0;32m   5580\u001b[0m \u001b[38;5;124;03m    \"\"\"\u001b[39;00m\n\u001b[1;32m-> 5581\u001b[0m     \u001b[38;5;28;01mreturn\u001b[39;00m \u001b[38;5;28msuper\u001b[39m()\u001b[38;5;241m.\u001b[39mdrop(\n\u001b[0;32m   5582\u001b[0m         labels\u001b[38;5;241m=\u001b[39mlabels,\n\u001b[0;32m   5583\u001b[0m         axis\u001b[38;5;241m=\u001b[39maxis,\n\u001b[0;32m   5584\u001b[0m         index\u001b[38;5;241m=\u001b[39mindex,\n\u001b[0;32m   5585\u001b[0m         columns\u001b[38;5;241m=\u001b[39mcolumns,\n\u001b[0;32m   5586\u001b[0m         level\u001b[38;5;241m=\u001b[39mlevel,\n\u001b[0;32m   5587\u001b[0m         inplace\u001b[38;5;241m=\u001b[39minplace,\n\u001b[0;32m   5588\u001b[0m         errors\u001b[38;5;241m=\u001b[39merrors,\n\u001b[0;32m   5589\u001b[0m     )\n",
      "File \u001b[1;32m~\\anaconda3\\Lib\\site-packages\\pandas\\core\\generic.py:4788\u001b[0m, in \u001b[0;36mNDFrame.drop\u001b[1;34m(self, labels, axis, index, columns, level, inplace, errors)\u001b[0m\n\u001b[0;32m   4786\u001b[0m \u001b[38;5;28;01mfor\u001b[39;00m axis, labels \u001b[38;5;129;01min\u001b[39;00m axes\u001b[38;5;241m.\u001b[39mitems():\n\u001b[0;32m   4787\u001b[0m     \u001b[38;5;28;01mif\u001b[39;00m labels \u001b[38;5;129;01mis\u001b[39;00m \u001b[38;5;129;01mnot\u001b[39;00m \u001b[38;5;28;01mNone\u001b[39;00m:\n\u001b[1;32m-> 4788\u001b[0m         obj \u001b[38;5;241m=\u001b[39m obj\u001b[38;5;241m.\u001b[39m_drop_axis(labels, axis, level\u001b[38;5;241m=\u001b[39mlevel, errors\u001b[38;5;241m=\u001b[39merrors)\n\u001b[0;32m   4790\u001b[0m \u001b[38;5;28;01mif\u001b[39;00m inplace:\n\u001b[0;32m   4791\u001b[0m     \u001b[38;5;28mself\u001b[39m\u001b[38;5;241m.\u001b[39m_update_inplace(obj)\n",
      "File \u001b[1;32m~\\anaconda3\\Lib\\site-packages\\pandas\\core\\generic.py:4830\u001b[0m, in \u001b[0;36mNDFrame._drop_axis\u001b[1;34m(self, labels, axis, level, errors, only_slice)\u001b[0m\n\u001b[0;32m   4828\u001b[0m         new_axis \u001b[38;5;241m=\u001b[39m axis\u001b[38;5;241m.\u001b[39mdrop(labels, level\u001b[38;5;241m=\u001b[39mlevel, errors\u001b[38;5;241m=\u001b[39merrors)\n\u001b[0;32m   4829\u001b[0m     \u001b[38;5;28;01melse\u001b[39;00m:\n\u001b[1;32m-> 4830\u001b[0m         new_axis \u001b[38;5;241m=\u001b[39m axis\u001b[38;5;241m.\u001b[39mdrop(labels, errors\u001b[38;5;241m=\u001b[39merrors)\n\u001b[0;32m   4831\u001b[0m     indexer \u001b[38;5;241m=\u001b[39m axis\u001b[38;5;241m.\u001b[39mget_indexer(new_axis)\n\u001b[0;32m   4833\u001b[0m \u001b[38;5;66;03m# Case for non-unique axis\u001b[39;00m\n\u001b[0;32m   4834\u001b[0m \u001b[38;5;28;01melse\u001b[39;00m:\n",
      "File \u001b[1;32m~\\anaconda3\\Lib\\site-packages\\pandas\\core\\indexes\\base.py:7070\u001b[0m, in \u001b[0;36mIndex.drop\u001b[1;34m(self, labels, errors)\u001b[0m\n\u001b[0;32m   7068\u001b[0m \u001b[38;5;28;01mif\u001b[39;00m mask\u001b[38;5;241m.\u001b[39many():\n\u001b[0;32m   7069\u001b[0m     \u001b[38;5;28;01mif\u001b[39;00m errors \u001b[38;5;241m!=\u001b[39m \u001b[38;5;124m\"\u001b[39m\u001b[38;5;124mignore\u001b[39m\u001b[38;5;124m\"\u001b[39m:\n\u001b[1;32m-> 7070\u001b[0m         \u001b[38;5;28;01mraise\u001b[39;00m \u001b[38;5;167;01mKeyError\u001b[39;00m(\u001b[38;5;124mf\u001b[39m\u001b[38;5;124m\"\u001b[39m\u001b[38;5;132;01m{\u001b[39;00mlabels[mask]\u001b[38;5;241m.\u001b[39mtolist()\u001b[38;5;132;01m}\u001b[39;00m\u001b[38;5;124m not found in axis\u001b[39m\u001b[38;5;124m\"\u001b[39m)\n\u001b[0;32m   7071\u001b[0m     indexer \u001b[38;5;241m=\u001b[39m indexer[\u001b[38;5;241m~\u001b[39mmask]\n\u001b[0;32m   7072\u001b[0m \u001b[38;5;28;01mreturn\u001b[39;00m \u001b[38;5;28mself\u001b[39m\u001b[38;5;241m.\u001b[39mdelete(indexer)\n",
      "\u001b[1;31mKeyError\u001b[0m: \"['Customer_ID', 'Preferred_Device'] not found in axis\""
     ]
    }
   ],
   "source": [
    "df = df.drop(['Customer_ID','Preferred_Device'],axis=1)\n",
    "x = df.select_dtypes(include=['object']).columns\n",
    "df[x] = df[x].fillna(df[x].mode().iloc[0])\n",
    "y = df.select_dtypes(include= ['float64']).columns\n",
    "df[y] = df[y].fillna(df[y].mean())\n",
    "p = df.select_dtypes(include= ['int64']).columns\n",
    "df[p] = df[p].fillna(df[p].mean())"
   ]
  },
  {
   "cell_type": "code",
   "execution_count": 70,
   "id": "4bc98292-f921-4572-a81b-152ddb2594d5",
   "metadata": {},
   "outputs": [],
   "source": [
    "from sklearn.preprocessing import OneHotEncoder\n",
    "z = OneHotEncoder(sparse_output=False)\n",
    "encoded_dataframes = []\n",
    "for column in x:\n",
    "    encoded = z.fit_transform(df[[column]])\n",
    "    encoded_df = pd.DataFrame(encoded, columns=z.get_feature_names_out([column]))\n",
    "    encoded_dataframes.append(encoded_df)\n",
    "\n",
    "df = pd.concat([df.drop(columns=x)] + encoded_dataframes, axis=1)"
   ]
  },
  {
   "cell_type": "code",
   "execution_count": 80,
   "id": "0382389a-7c18-4ede-ba3b-a34ffe7463e1",
   "metadata": {},
   "outputs": [
    {
     "name": "stdout",
     "output_type": "stream",
     "text": [
      "          Age    Income  Previous_Purchases  Time_Spent_on_Site  \\\n",
      "0    0.885246  0.496413               0.875            0.641796   \n",
      "1    0.885246  0.617502               0.000            0.582212   \n",
      "2    0.885246  0.042828               0.000            0.872513   \n",
      "3    0.065574  0.737366               0.750            0.810896   \n",
      "4    0.245902  0.851301               0.125            0.998598   \n",
      "..        ...       ...                 ...                 ...   \n",
      "795  0.344262  0.926543               1.000            0.759107   \n",
      "796  0.081967  0.572896               0.000            0.406973   \n",
      "797  0.442623  0.852105               1.000            0.301804   \n",
      "798  0.983607  0.519454               0.875            0.383333   \n",
      "799  0.721311  0.463407               0.500            0.500028   \n",
      "\n",
      "     Gender_Female  Gender_Male  Gender_Other  Location_Rural  \\\n",
      "0              0.0          1.0           0.0             0.0   \n",
      "1              1.0          0.0           0.0             1.0   \n",
      "2              0.0          1.0           0.0             0.0   \n",
      "3              0.0          1.0           0.0             1.0   \n",
      "4              1.0          0.0           0.0             1.0   \n",
      "..             ...          ...           ...             ...   \n",
      "795            0.0          1.0           0.0             1.0   \n",
      "796            0.0          0.0           1.0             1.0   \n",
      "797            1.0          0.0           0.0             0.0   \n",
      "798            0.0          0.0           1.0             0.0   \n",
      "799            1.0          0.0           0.0             0.0   \n",
      "\n",
      "     Location_Suburban  Location_Urban  Browsing_History_Books  \\\n",
      "0                  1.0             0.0                     0.0   \n",
      "1                  0.0             0.0                     1.0   \n",
      "2                  0.0             1.0                     0.0   \n",
      "3                  0.0             0.0                     0.0   \n",
      "4                  0.0             0.0                     0.0   \n",
      "..                 ...             ...                     ...   \n",
      "795                0.0             0.0                     0.0   \n",
      "796                0.0             0.0                     0.0   \n",
      "797                1.0             0.0                     0.0   \n",
      "798                0.0             1.0                     0.0   \n",
      "799                0.0             1.0                     0.0   \n",
      "\n",
      "     Browsing_History_Clothing  Browsing_History_Electronics  \\\n",
      "0                          1.0                           0.0   \n",
      "1                          0.0                           0.0   \n",
      "2                          0.0                           0.0   \n",
      "3                          0.0                           0.0   \n",
      "4                          1.0                           0.0   \n",
      "..                         ...                           ...   \n",
      "795                        0.0                           1.0   \n",
      "796                        1.0                           0.0   \n",
      "797                        0.0                           0.0   \n",
      "798                        0.0                           1.0   \n",
      "799                        0.0                           0.0   \n",
      "\n",
      "     Browsing_History_Food  Browsing_History_Sports  Product_Category_Books  \\\n",
      "0                      0.0                      0.0                     0.0   \n",
      "1                      0.0                      0.0                     0.0   \n",
      "2                      0.0                      1.0                     0.0   \n",
      "3                      1.0                      0.0                     0.0   \n",
      "4                      0.0                      0.0                     0.0   \n",
      "..                     ...                      ...                     ...   \n",
      "795                    0.0                      0.0                     1.0   \n",
      "796                    0.0                      0.0                     0.0   \n",
      "797                    1.0                      0.0                     0.0   \n",
      "798                    0.0                      0.0                     0.0   \n",
      "799                    1.0                      0.0                     0.0   \n",
      "\n",
      "     Product_Category_Clothing  Product_Category_Electronics  \\\n",
      "0                          1.0                           0.0   \n",
      "1                          1.0                           0.0   \n",
      "2                          0.0                           0.0   \n",
      "3                          0.0                           0.0   \n",
      "4                          1.0                           0.0   \n",
      "..                         ...                           ...   \n",
      "795                        0.0                           0.0   \n",
      "796                        0.0                           1.0   \n",
      "797                        0.0                           0.0   \n",
      "798                        0.0                           0.0   \n",
      "799                        0.0                           1.0   \n",
      "\n",
      "     Product_Category_Food  Product_Category_Sports  \n",
      "0                      0.0                      0.0  \n",
      "1                      0.0                      0.0  \n",
      "2                      1.0                      0.0  \n",
      "3                      1.0                      0.0  \n",
      "4                      0.0                      0.0  \n",
      "..                     ...                      ...  \n",
      "795                    0.0                      0.0  \n",
      "796                    0.0                      0.0  \n",
      "797                    0.0                      1.0  \n",
      "798                    1.0                      0.0  \n",
      "799                    0.0                      0.0  \n",
      "\n",
      "[800 rows x 20 columns]\n"
     ]
    }
   ],
   "source": [
    "from sklearn.preprocessing import MinMaxScaler\n",
    "scaler = MinMaxScaler()\n",
    "df[y] = scaler.fit_transform(df[y])\n",
    "df[p] = scaler.fit_transform(df[p])\n",
    "print(df)"
   ]
  },
  {
   "cell_type": "code",
   "execution_count": null,
   "id": "e63b98bb-6925-475e-88e0-7a15dab40341",
   "metadata": {},
   "outputs": [],
   "source": [
    "target_columns = [col for col in df.columns if col.startswith('Product_Category_')]\n",
    "b = df[target_columns]\n",
    "a = df.drop(target_columns, axis=1)"
   ]
  },
  {
   "cell_type": "code",
   "execution_count": null,
   "id": "b4cc4995-fb0b-42c2-91b8-b9f81f4bcbd9",
   "metadata": {},
   "outputs": [],
   "source": [
    "from sklearn.model_selection import train_test_split\n",
    "a_train, a_test, b_train, b_test = train_test_split(a, b, test_size=0.2, random_state=42)\n",
    "print(f\"Feature training set shape: {a_train.shape}\")\n",
    "print(f\"Feature testing set shape: {a_test.shape}\")\n",
    "print(f\"Target training set shape: {b_train.shape}\")\n",
    "print(f\"Target testing set shape: {b_test.shape}\")"
   ]
  },
  {
   "cell_type": "code",
   "execution_count": null,
   "id": "779ad8c6-7bb2-4280-b689-68780fc8700a",
   "metadata": {},
   "outputs": [],
   "source": [
    "from sklearn.linear_model import LinearRegression\n",
    "linreg_model = LinearRegression()\n",
    "linreg_model.fit(a_train, b_train)"
   ]
  },
  {
   "cell_type": "code",
   "execution_count": 43,
   "id": "938c452c-70e7-402f-b0ba-ffcd28b3c032",
   "metadata": {},
   "outputs": [
    {
     "name": "stdout",
     "output_type": "stream",
     "text": [
      "Mean Squared Error: 0.16727315425724013\n",
      "Mean Absolute Error: 0.3237817511522894\n",
      "R-squared: -0.047182949628638095\n"
     ]
    }
   ],
   "source": [
    "from sklearn.metrics import mean_squared_error, mean_absolute_error, r2_score\n",
    "linreg_pred = linreg_model.predict(a_test)\n",
    "linreg_mse = mean_squared_error(b_test, linreg_pred)\n",
    "linreg_mae = mean_absolute_error(b_test, linreg_pred)\n",
    "linreg_r2 = r2_score(b_test, linreg_pred)\n",
    "print(f'Mean Squared Error: {linreg_mse}')\n",
    "print(f'Mean Absolute Error: {linreg_mae}')\n",
    "print(f'R-squared: {linreg_r2}')\n",
    " "
   ]
  },
  {
   "cell_type": "code",
   "execution_count": null,
   "id": "e9829ba6-0454-4d43-b5fe-a0e454086c58",
   "metadata": {},
   "outputs": [],
   "source": [
    "from sklearn.ensemble import RandomForestRegressor\n",
    "rf_model = RandomForestRegressor()\n",
    "rf_model.fit(a_train, b_train) "
   ]
  },
  {
   "cell_type": "code",
   "execution_count": null,
   "id": "15717720-7f96-4c06-bf9f-67f17b1ad12b",
   "metadata": {},
   "outputs": [],
   "source": [
    "rf_pred = rf_model.predict(a_test)\n",
    "rf_mse = mean_squared_error(b_test, rf_pred)\n",
    "rf_mae = mean_absolute_error(b_test, rf_pred)\n",
    "rf_r2 = r2_score(b_test, rf_pred)\n",
    "print(f'Mean Squared Error: {rf_mse}')\n",
    "print(f'Mean Absolute Error: {rf_mae}')\n",
    "print(f'R-squared: {rf_r2}')\n"
   ]
  },
  {
   "cell_type": "code",
   "execution_count": 50,
   "id": "78d1f3e5-639c-47e8-b91c-1538941e0b62",
   "metadata": {},
   "outputs": [
    {
     "data": {
      "image/png": "[encoded data removed]",
      "text/plain": [
       "<Figure size 640x480 with 1 Axes>"
      ]
     },
     "metadata": {},
     "output_type": "display_data"
    }
   ],
   "source": [
    "from sklearn.tree import plot_tree\n",
    "import matplotlib.pyplot as plt\n",
    "# Plotting the first tree in the forest\n",
    "plot_tree(rf_model.estimators_[1], filled= True)\n",
    "plt.show()"
   ]
  },
  {
   "cell_type": "code",
   "execution_count": 48,
   "id": "4845f80a-d4c7-47f6-bf0e-8a9fd91b1cbf",
   "metadata": {},
   "outputs": [
    {
     "name": "stdout",
     "output_type": "stream",
     "text": [
      "Best model saved as 'best_model.pkl'\n"
     ]
    }
   ],
   "source": [
    "best_model = linreg_model if linreg_mse < rf_mse else rf_model\n",
    "import pickle\n",
    "\n",
    "with open('best_model.pkl', 'wb') as file:\n",
    "    pickle.dump(best_model, file)\n",
    "\n",
    "print(\"Best model saved as 'best_model.pkl'\")"
   ]
  },
  {
   "cell_type": "code",
   "execution_count": null,
   "id": "73fc2bc9-a928-4874-bf41-523620103d0f",
   "metadata": {},
   "outputs": [],
   "source": []
  }
 ],
 "metadata": {
  "kernelspec": {
   "display_name": "Python 3 (ipykernel)",
   "language": "python",
   "name": "python3"
  },
  "language_info": {
   "codemirror_mode": {
    "name": "ipython",
    "version": 3
   },
   "file_extension": ".py",
   "mimetype": "text/x-python",
   "name": "python",
   "nbconvert_exporter": "python",
   "pygments_lexer": "ipython3",
   "version": "3.12.7"
  }
 },
 "nbformat": 4,
 "nbformat_minor": 5
}
